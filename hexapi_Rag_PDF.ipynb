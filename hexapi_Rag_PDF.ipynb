{
  "nbformat": 4,
  "nbformat_minor": 0,
  "metadata": {
    "colab": {
      "private_outputs": true,
      "provenance": [],
      "gpuType": "T4"
    },
    "kernelspec": {
      "name": "python3",
      "display_name": "Python 3"
    },
    "language_info": {
      "name": "python"
    },
    "accelerator": "GPU"
  },
  "cells": [
    {
      "cell_type": "code",
      "execution_count": null,
      "metadata": {
        "id": "gdENXQeo40BG"
      },
      "outputs": [],
      "source": [
        "!pip -q install langchain-community langchain_openai langchain_chroma langchain pypdf"
      ]
    },
    {
      "cell_type": "code",
      "source": [
        "from langchain_community.document_loaders import PyPDFLoader\n",
        "\n",
        "loader= PyPDFLoader('/content/Cloudflare_DPA.pdf')\n",
        "pdf_data= loader.load()"
      ],
      "metadata": {
        "id": "IQR8BSwB8ulp"
      },
      "execution_count": null,
      "outputs": []
    },
    {
      "cell_type": "code",
      "source": [
        "from langchain_text_splitters import CharacterTextSplitter\n",
        "\n",
        "text_splitter= CharacterTextSplitter(\n",
        "    separator= '\\n',\n",
        "    chunk_size= 1000,\n",
        "    chunk_overlap= 200,\n",
        "    length_function= len,\n",
        ")\n",
        "docs= text_splitter.split_documents(pdf_data)"
      ],
      "metadata": {
        "id": "mvEnCyBr9fp5"
      },
      "execution_count": null,
      "outputs": []
    },
    {
      "cell_type": "code",
      "source": [
        "from langchain_openai import OpenAIEmbeddings\n",
        "from langchain_chroma import Chroma\n",
        "\n",
        "\n",
        "open_ai_key = \"openAI key\"\n",
        "embeddings= OpenAIEmbeddings(api_key= open_ai_key)\n",
        "db= Chroma.from_documents(docs, embeddings)"
      ],
      "metadata": {
        "id": "2w4TZf2kCfxH"
      },
      "execution_count": null,
      "outputs": []
    },
    {
      "cell_type": "code",
      "source": [
        "retriver = db.as_retriever(search_kwargs={'k': 3})"
      ],
      "metadata": {
        "id": "x9tJCd_lDCAA"
      },
      "execution_count": null,
      "outputs": []
    },
    {
      "cell_type": "code",
      "source": [
        "from langchain_openai import ChatOpenAI\n",
        "from langchain import PromptTemplate\n",
        "from langchain.chains import ConversationalRetrievalChain\n",
        "from langchain.memory import ConversationBufferMemory, ChatMessageHistory\n",
        "\n",
        "message_history = ChatMessageHistory()\n",
        "memory= ConversationBufferMemory(\n",
        "    memory_key= \"chat_history\",\n",
        "    output_key= 'answer',\n",
        "    chat_memory= message_history,\n",
        "    return_messages= True,\n",
        ")\n",
        "\n"
      ],
      "metadata": {
        "id": "YC23YoNAFuzN"
      },
      "execution_count": null,
      "outputs": []
    },
    {
      "cell_type": "code",
      "source": [
        "model= ChatOpenAI(api_key= open_ai_key)\n",
        "\n",
        "Custom_prompt_template =  \"\"\"\n",
        "Use the following pieces of context to answer the question at the end.\n",
        "If you don't know the answer, just say that you don't know, don't try to make up an answer\n",
        "Context : {context}\n",
        "Question : {question}\n",
        "only return the helpful answer below and nothing else.\n",
        "Helpful answer :\n",
        "\"\"\"\n",
        "PROMPT = PromptTemplate(\n",
        "    template=Custom_prompt_template, input_variables=[\"context\", \"question\"]\n",
        ")\n",
        "\n",
        "qa =ConversationalRetrievalChain.from_llm(\n",
        "    llm= model,\n",
        "    chain_type= 'stuff',\n",
        "    retriever= retriver,\n",
        "    memory= memory,\n",
        "    return_source_documents= True,\n",
        "    combine_docs_chain_kwargs={'prompt': PROMPT},\n",
        ")"
      ],
      "metadata": {
        "id": "uCnuZbHxItWY"
      },
      "execution_count": null,
      "outputs": []
    },
    {
      "cell_type": "code",
      "source": [
        "question = \" is Claudflaire GDRP complaint\"\n",
        "result = qa(question)\n",
        "result[\"answer\"]"
      ],
      "metadata": {
        "id": "xukPZYphKeC2"
      },
      "execution_count": null,
      "outputs": []
    },
    {
      "cell_type": "code",
      "source": [],
      "metadata": {
        "id": "hJxDecSjMWka"
      },
      "execution_count": null,
      "outputs": []
    }
  ]
}